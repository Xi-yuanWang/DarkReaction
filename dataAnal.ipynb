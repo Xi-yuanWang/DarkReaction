{
 "metadata": {
  "language_info": {
   "codemirror_mode": {
    "name": "ipython",
    "version": 3
   },
   "file_extension": ".py",
   "mimetype": "text/x-python",
   "name": "python",
   "nbconvert_exporter": "python",
   "pygments_lexer": "ipython3",
   "version": "3.7.4-final"
  },
  "orig_nbformat": 2,
  "kernelspec": {
   "name": "python3",
   "display_name": "Python 3.7.4 64-bit (conda)",
   "metadata": {
    "interpreter": {
     "hash": "2ddf64273c1c95695405e7655f23969621e3aad2148b2f12f9e5baeca8e6fee9"
    }
   }
  }
 },
 "nbformat": 4,
 "nbformat_minor": 2,
 "cells": [
  {
   "cell_type": "code",
   "execution_count": null,
   "metadata": {},
   "outputs": [],
   "source": [
    "\"\"\"\n",
    "System Environment\n",
    "OS: Windows 10 家庭中文版\n",
    "CPU: intel(R) Core(TM) i7-7700HQ CPU @ 2.80GHz 2.80GHz\n",
    "GPU: GeForce GTX 1050\n",
    "CUDA 9.1.84\n",
    "Memory: 16 GiB\n",
    "\n",
    "Python Environment\n",
    "python 3.7.4 (anaconda)\n",
    "numpy 1.16.5 \n",
    "pandas 0.25.1\n",
    "pytorch 1.1.0\n",
    "scikit-learn 0.21.3\n",
    "scipy 1.3.1\n",
    "matplotlib 3.1.1\n",
    "\"\"\""
   ]
  },
  {
   "cell_type": "code",
   "execution_count": null,
   "metadata": {},
   "outputs": [],
   "source": [
    "import numpy as np\n",
    "import pandas as pd\n",
    "import matplotlib.pyplot as plt\n",
    "from sklearn.pipeline import make_pipeline\n",
    "from sklearn.preprocessing import StandardScaler"
   ]
  },
  {
   "cell_type": "code",
   "execution_count": null,
   "metadata": {},
   "outputs": [],
   "source": [
    "from utils import numout2boolout,X,x,Y,y,reactComb"
   ]
  },
  {
   "cell_type": "code",
   "execution_count": null,
   "metadata": {},
   "outputs": [],
   "source": [
    "X_masked=np.load(\"./processedData/X/X_train_masked.npy\")\n",
    "x_masked=np.load(\"./processedData/X/x_test_masked.npy\")"
   ]
  },
  {
   "source": [
    "测试集比训练集更不均衡"
   ],
   "cell_type": "markdown",
   "metadata": {}
  },
  {
   "cell_type": "code",
   "execution_count": null,
   "metadata": {},
   "outputs": [],
   "source": [
    "fig, ax = plt.subplots()\n",
    "size = 0.3\n",
    "radius=1\n",
    "vals = np.array([sum(y==i)/len(y) for i in range(1,5)])\n",
    "cmap = plt.get_cmap(\"tab20c\")\n",
    "outer_colors = cmap(np.arange(3)*4)\n",
    "inner_colors = cmap(np.array([1, 2]))\n",
    "\n",
    "ax.pie([vals[0]+vals[1],vals[2]+vals[3]],labels=[\"failed\",\"successful\"],labeldistance=radius+size/2, radius=radius, autopct=lambda pct: \"{:.2f}%\".format(pct),pctdistance=radius-size/2,colors=outer_colors,\n",
    "       wedgeprops=dict(width=size, edgecolor='w'))\n",
    "ax.legend(bbox_to_anchor=(1, 0, 0.5, 1))\n",
    "ax.pie(vals,radius=radius-size, labels=[1,2,3,4], colors=inner_colors,labeldistance=radius-size-size,autopct=lambda pct: \"{:.2f}%\".format(pct),pctdistance=radius-size/2,\n",
    "       wedgeprops=dict(width=size, edgecolor='w'))\n",
    "\n",
    "\n",
    "ax.set_title(\"label ratio\")\n",
    "plt.show()"
   ]
  },
  {
   "source": [
    "reactant combination 对反应的影响几乎是决定性的"
   ],
   "cell_type": "markdown",
   "metadata": {}
  },
  {
   "cell_type": "code",
   "execution_count": null,
   "metadata": {},
   "outputs": [],
   "source": [
    "plt.hist([len(i) for i in reactComb],[0,2,4,6,8,10,15,20,30,50,150,200],density=True)\n",
    "plt.xlabel(\"reaction number\")\n",
    "plt.ylabel(\"ratio\")\n",
    "plt.title(\"distribution of reaction number\")"
   ]
  },
  {
   "source": [
    "反应物类型推出为1的概率"
   ],
   "cell_type": "markdown",
   "metadata": {}
  },
  {
   "cell_type": "code",
   "execution_count": null,
   "metadata": {},
   "outputs": [],
   "source": [
    "rcOut=[]\n",
    "for rc in reactComb:\n",
    "    rcOut+=[sum([numout2boolout(Y[i]) for i in rc])/len(rc)]*len(rc)"
   ]
  },
  {
   "cell_type": "code",
   "execution_count": null,
   "metadata": {},
   "outputs": [],
   "source": [
    "plt.hist(rcOut,np.linspace(0,1))\n",
    "plt.xlabel(\"success ratio\")\n",
    "plt.ylabel(\"data number\")\n",
    "plt.title(\"distribution of success ratio\")"
   ]
  }
 ]
}